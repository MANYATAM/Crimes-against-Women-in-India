{
 "cells": [
  {
   "cell_type": "code",
   "execution_count": 1,
   "id": "ruled-introduction",
   "metadata": {
    "execution": {
     "iopub.execute_input": "2021-04-14T16:33:56.699431Z",
     "iopub.status.busy": "2021-04-14T16:33:56.698286Z",
     "iopub.status.idle": "2021-04-14T16:34:00.515752Z",
     "shell.execute_reply": "2021-04-14T16:34:00.514980Z"
    },
    "papermill": {
     "duration": 3.843532,
     "end_time": "2021-04-14T16:34:00.515934",
     "exception": false,
     "start_time": "2021-04-14T16:33:56.672402",
     "status": "completed"
    },
    "tags": []
   },
   "outputs": [],
   "source": [
    "import pandas as pd\n",
    "import matplotlib.pyplot as plt\n",
    "from plotnine import *"
   ]
  },
  {
   "cell_type": "code",
   "execution_count": 2,
   "id": "prescribed-advancement",
   "metadata": {
    "execution": {
     "iopub.execute_input": "2021-04-14T16:34:00.568610Z",
     "iopub.status.busy": "2021-04-14T16:34:00.567710Z",
     "iopub.status.idle": "2021-04-14T16:34:00.640159Z",
     "shell.execute_reply": "2021-04-14T16:34:00.639310Z"
    },
    "papermill": {
     "duration": 0.101812,
     "end_time": "2021-04-14T16:34:00.640342",
     "exception": false,
     "start_time": "2021-04-14T16:34:00.538530",
     "status": "completed"
    },
    "tags": []
   },
   "outputs": [],
   "source": [
    "crime12 = pd.read_csv('../input/crime-in-india/crime/crime/42_District_wise_crimes_committed_against_women_2001_2012.csv')"
   ]
  },
  {
   "cell_type": "code",
   "execution_count": 3,
   "id": "informal-organ",
   "metadata": {
    "execution": {
     "iopub.execute_input": "2021-04-14T16:34:00.691071Z",
     "iopub.status.busy": "2021-04-14T16:34:00.690391Z",
     "iopub.status.idle": "2021-04-14T16:34:00.714194Z",
     "shell.execute_reply": "2021-04-14T16:34:00.713459Z"
    },
    "papermill": {
     "duration": 0.051762,
     "end_time": "2021-04-14T16:34:00.714485",
     "exception": false,
     "start_time": "2021-04-14T16:34:00.662723",
     "status": "completed"
    },
    "tags": []
   },
   "outputs": [],
   "source": [
    "crime13 = pd.read_csv('../input/crime-in-india/crime/crime/42_District_wise_crimes_committed_against_women_2013.csv')"
   ]
  },
  {
   "cell_type": "code",
   "execution_count": 4,
   "id": "integral-career",
   "metadata": {
    "execution": {
     "iopub.execute_input": "2021-04-14T16:34:00.766602Z",
     "iopub.status.busy": "2021-04-14T16:34:00.765247Z",
     "iopub.status.idle": "2021-04-14T16:34:00.768892Z",
     "shell.execute_reply": "2021-04-14T16:34:00.767953Z"
    },
    "papermill": {
     "duration": 0.03163,
     "end_time": "2021-04-14T16:34:00.769062",
     "exception": false,
     "start_time": "2021-04-14T16:34:00.737432",
     "status": "completed"
    },
    "tags": []
   },
   "outputs": [],
   "source": [
    "crime12.columns = crime12.columns.str.upper()"
   ]
  },
  {
   "cell_type": "code",
   "execution_count": 5,
   "id": "european-green",
   "metadata": {
    "execution": {
     "iopub.execute_input": "2021-04-14T16:34:00.836131Z",
     "iopub.status.busy": "2021-04-14T16:34:00.835244Z",
     "iopub.status.idle": "2021-04-14T16:34:00.838828Z",
     "shell.execute_reply": "2021-04-14T16:34:00.838281Z"
    },
    "papermill": {
     "duration": 0.046114,
     "end_time": "2021-04-14T16:34:00.838982",
     "exception": false,
     "start_time": "2021-04-14T16:34:00.792868",
     "status": "completed"
    },
    "tags": []
   },
   "outputs": [],
   "source": [
    "crime13.columns = crime13.columns.str.upper()\n",
    "crime13['STATE/UT'] = crime13['STATE/UT'].str.upper()\n",
    "crime13['DISTRICT'].replace('ZZ TOTAL', 'TOTAL', inplace = True)"
   ]
  },
  {
   "cell_type": "code",
   "execution_count": 6,
   "id": "isolated-comparison",
   "metadata": {
    "execution": {
     "iopub.execute_input": "2021-04-14T16:34:00.892242Z",
     "iopub.status.busy": "2021-04-14T16:34:00.891220Z",
     "iopub.status.idle": "2021-04-14T16:34:00.896175Z",
     "shell.execute_reply": "2021-04-14T16:34:00.895489Z"
    },
    "papermill": {
     "duration": 0.033621,
     "end_time": "2021-04-14T16:34:00.896336",
     "exception": false,
     "start_time": "2021-04-14T16:34:00.862715",
     "status": "completed"
    },
    "tags": []
   },
   "outputs": [],
   "source": [
    "dataframe = pd.concat([crime12, crime13])"
   ]
  },
  {
   "cell_type": "code",
   "execution_count": 7,
   "id": "portuguese-opposition",
   "metadata": {
    "execution": {
     "iopub.execute_input": "2021-04-14T16:34:00.950414Z",
     "iopub.status.busy": "2021-04-14T16:34:00.949711Z",
     "iopub.status.idle": "2021-04-14T16:34:00.971307Z",
     "shell.execute_reply": "2021-04-14T16:34:00.970665Z"
    },
    "papermill": {
     "duration": 0.052082,
     "end_time": "2021-04-14T16:34:00.971447",
     "exception": false,
     "start_time": "2021-04-14T16:34:00.919365",
     "status": "completed"
    },
    "tags": []
   },
   "outputs": [
    {
     "data": {
      "text/html": [
       "<div>\n",
       "<style scoped>\n",
       "    .dataframe tbody tr th:only-of-type {\n",
       "        vertical-align: middle;\n",
       "    }\n",
       "\n",
       "    .dataframe tbody tr th {\n",
       "        vertical-align: top;\n",
       "    }\n",
       "\n",
       "    .dataframe thead th {\n",
       "        text-align: right;\n",
       "    }\n",
       "</style>\n",
       "<table border=\"1\" class=\"dataframe\">\n",
       "  <thead>\n",
       "    <tr style=\"text-align: right;\">\n",
       "      <th></th>\n",
       "      <th>STATE/UT</th>\n",
       "      <th>DISTRICT</th>\n",
       "      <th>YEAR</th>\n",
       "      <th>RAPE</th>\n",
       "      <th>KIDNAPPING AND ABDUCTION</th>\n",
       "      <th>DOWRY DEATHS</th>\n",
       "      <th>ASSAULT ON WOMEN WITH INTENT TO OUTRAGE HER MODESTY</th>\n",
       "      <th>INSULT TO MODESTY OF WOMEN</th>\n",
       "      <th>CRUELTY BY HUSBAND OR HIS RELATIVES</th>\n",
       "      <th>IMPORTATION OF GIRLS</th>\n",
       "    </tr>\n",
       "  </thead>\n",
       "  <tbody>\n",
       "    <tr>\n",
       "      <th>0</th>\n",
       "      <td>ANDHRA PRADESH</td>\n",
       "      <td>ADILABAD</td>\n",
       "      <td>2001</td>\n",
       "      <td>50</td>\n",
       "      <td>30</td>\n",
       "      <td>16</td>\n",
       "      <td>149</td>\n",
       "      <td>34</td>\n",
       "      <td>175</td>\n",
       "      <td>0</td>\n",
       "    </tr>\n",
       "    <tr>\n",
       "      <th>1</th>\n",
       "      <td>ANDHRA PRADESH</td>\n",
       "      <td>ANANTAPUR</td>\n",
       "      <td>2001</td>\n",
       "      <td>23</td>\n",
       "      <td>30</td>\n",
       "      <td>7</td>\n",
       "      <td>118</td>\n",
       "      <td>24</td>\n",
       "      <td>154</td>\n",
       "      <td>0</td>\n",
       "    </tr>\n",
       "    <tr>\n",
       "      <th>2</th>\n",
       "      <td>ANDHRA PRADESH</td>\n",
       "      <td>CHITTOOR</td>\n",
       "      <td>2001</td>\n",
       "      <td>27</td>\n",
       "      <td>34</td>\n",
       "      <td>14</td>\n",
       "      <td>112</td>\n",
       "      <td>83</td>\n",
       "      <td>186</td>\n",
       "      <td>0</td>\n",
       "    </tr>\n",
       "    <tr>\n",
       "      <th>3</th>\n",
       "      <td>ANDHRA PRADESH</td>\n",
       "      <td>CUDDAPAH</td>\n",
       "      <td>2001</td>\n",
       "      <td>20</td>\n",
       "      <td>20</td>\n",
       "      <td>17</td>\n",
       "      <td>126</td>\n",
       "      <td>38</td>\n",
       "      <td>57</td>\n",
       "      <td>0</td>\n",
       "    </tr>\n",
       "    <tr>\n",
       "      <th>4</th>\n",
       "      <td>ANDHRA PRADESH</td>\n",
       "      <td>EAST GODAVARI</td>\n",
       "      <td>2001</td>\n",
       "      <td>23</td>\n",
       "      <td>26</td>\n",
       "      <td>12</td>\n",
       "      <td>109</td>\n",
       "      <td>58</td>\n",
       "      <td>247</td>\n",
       "      <td>0</td>\n",
       "    </tr>\n",
       "  </tbody>\n",
       "</table>\n",
       "</div>"
      ],
      "text/plain": [
       "         STATE/UT       DISTRICT  YEAR  RAPE  KIDNAPPING AND ABDUCTION  \\\n",
       "0  ANDHRA PRADESH       ADILABAD  2001    50                        30   \n",
       "1  ANDHRA PRADESH      ANANTAPUR  2001    23                        30   \n",
       "2  ANDHRA PRADESH       CHITTOOR  2001    27                        34   \n",
       "3  ANDHRA PRADESH       CUDDAPAH  2001    20                        20   \n",
       "4  ANDHRA PRADESH  EAST GODAVARI  2001    23                        26   \n",
       "\n",
       "   DOWRY DEATHS  ASSAULT ON WOMEN WITH INTENT TO OUTRAGE HER MODESTY  \\\n",
       "0            16                                                149     \n",
       "1             7                                                118     \n",
       "2            14                                                112     \n",
       "3            17                                                126     \n",
       "4            12                                                109     \n",
       "\n",
       "   INSULT TO MODESTY OF WOMEN  CRUELTY BY HUSBAND OR HIS RELATIVES  \\\n",
       "0                          34                                  175   \n",
       "1                          24                                  154   \n",
       "2                          83                                  186   \n",
       "3                          38                                   57   \n",
       "4                          58                                  247   \n",
       "\n",
       "   IMPORTATION OF GIRLS  \n",
       "0                     0  \n",
       "1                     0  \n",
       "2                     0  \n",
       "3                     0  \n",
       "4                     0  "
      ]
     },
     "execution_count": 7,
     "metadata": {},
     "output_type": "execute_result"
    }
   ],
   "source": [
    "dataframe.head()"
   ]
  },
  {
   "cell_type": "code",
   "execution_count": 8,
   "id": "rotary-shelter",
   "metadata": {
    "execution": {
     "iopub.execute_input": "2021-04-14T16:34:01.029058Z",
     "iopub.status.busy": "2021-04-14T16:34:01.027981Z",
     "iopub.status.idle": "2021-04-14T16:34:01.030789Z",
     "shell.execute_reply": "2021-04-14T16:34:01.030256Z"
    },
    "papermill": {
     "duration": 0.035346,
     "end_time": "2021-04-14T16:34:01.030947",
     "exception": false,
     "start_time": "2021-04-14T16:34:00.995601",
     "status": "completed"
    },
    "tags": []
   },
   "outputs": [],
   "source": [
    "dataframe.fillna(value = 0, inplace= True)"
   ]
  },
  {
   "cell_type": "code",
   "execution_count": 9,
   "id": "sunset-bumper",
   "metadata": {
    "execution": {
     "iopub.execute_input": "2021-04-14T16:34:01.089836Z",
     "iopub.status.busy": "2021-04-14T16:34:01.088792Z",
     "iopub.status.idle": "2021-04-14T16:34:01.092707Z",
     "shell.execute_reply": "2021-04-14T16:34:01.092115Z"
    },
    "papermill": {
     "duration": 0.036639,
     "end_time": "2021-04-14T16:34:01.092859",
     "exception": false,
     "start_time": "2021-04-14T16:34:01.056220",
     "status": "completed"
    },
    "tags": []
   },
   "outputs": [],
   "source": [
    "total_crime = dataframe[dataframe['DISTRICT'] == 'TOTAL']"
   ]
  },
  {
   "cell_type": "code",
   "execution_count": 10,
   "id": "sudden-moment",
   "metadata": {
    "execution": {
     "iopub.execute_input": "2021-04-14T16:34:01.147392Z",
     "iopub.status.busy": "2021-04-14T16:34:01.146710Z",
     "iopub.status.idle": "2021-04-14T16:34:01.149723Z",
     "shell.execute_reply": "2021-04-14T16:34:01.149117Z"
    },
    "papermill": {
     "duration": 0.032821,
     "end_time": "2021-04-14T16:34:01.149867",
     "exception": false,
     "start_time": "2021-04-14T16:34:01.117046",
     "status": "completed"
    },
    "tags": []
   },
   "outputs": [],
   "source": [
    "punjab_crime = total_crime[total_crime['STATE/UT'] == 'PUNJAB']"
   ]
  },
  {
   "cell_type": "code",
   "execution_count": 11,
   "id": "diagnostic-fellow",
   "metadata": {
    "execution": {
     "iopub.execute_input": "2021-04-14T16:34:01.207707Z",
     "iopub.status.busy": "2021-04-14T16:34:01.206949Z",
     "iopub.status.idle": "2021-04-14T16:34:01.501946Z",
     "shell.execute_reply": "2021-04-14T16:34:01.502420Z"
    },
    "papermill": {
     "duration": 0.328893,
     "end_time": "2021-04-14T16:34:01.502607",
     "exception": false,
     "start_time": "2021-04-14T16:34:01.173714",
     "status": "completed"
    },
    "tags": []
   },
   "outputs": [
    {
     "data": {
      "image/png": "[encoded data removed]",
      "text/plain": [
       "<Figure size 864x576 with 1 Axes>"
      ]
     },
     "metadata": {
      "needs_background": "light"
     },
     "output_type": "display_data"
    }
   ],
   "source": [
    "punjab_crime.set_index('YEAR')[['DOWRY DEATHS', 'CRUELTY BY HUSBAND OR HIS RELATIVES','ASSAULT ON WOMEN WITH INTENT TO OUTRAGE HER MODESTY']].plot(kind = 'line', figsize = (12,8))\n",
    "plt.xlabel('Years')\n",
    "plt.ylabel('No. of Cases in Punjab')\n",
    "plt.title('Domestic Violence against Women')\n",
    "plt.show()"
   ]
  },
  {
   "cell_type": "code",
   "execution_count": 12,
   "id": "marine-exercise",
   "metadata": {
    "execution": {
     "iopub.execute_input": "2021-04-14T16:34:01.558073Z",
     "iopub.status.busy": "2021-04-14T16:34:01.557078Z",
     "iopub.status.idle": "2021-04-14T16:34:01.580336Z",
     "shell.execute_reply": "2021-04-14T16:34:01.580835Z"
    },
    "papermill": {
     "duration": 0.052627,
     "end_time": "2021-04-14T16:34:01.581032",
     "exception": false,
     "start_time": "2021-04-14T16:34:01.528405",
     "status": "completed"
    },
    "tags": []
   },
   "outputs": [],
   "source": [
    "data24 = dataframe[(dataframe['DISTRICT'] == 'TOTAL') & (dataframe['YEAR'] == 2013)]"
   ]
  },
  {
   "cell_type": "code",
   "execution_count": 13,
   "id": "sixth-quantum",
   "metadata": {
    "execution": {
     "iopub.execute_input": "2021-04-14T16:34:01.680317Z",
     "iopub.status.busy": "2021-04-14T16:34:01.677829Z",
     "iopub.status.idle": "2021-04-14T16:34:02.309793Z",
     "shell.execute_reply": "2021-04-14T16:34:02.309230Z"
    },
    "papermill": {
     "duration": 0.702595,
     "end_time": "2021-04-14T16:34:02.309936",
     "exception": false,
     "start_time": "2021-04-14T16:34:01.607341",
     "status": "completed"
    },
    "tags": []
   },
   "outputs": [
    {
     "data": {
      "image/png": "[encoded data removed]",
      "text/plain": [
       "<Figure size 720x936 with 1 Axes>"
      ]
     },
     "metadata": {
      "needs_background": "light"
     },
     "output_type": "display_data"
    }
   ],
   "source": [
    "allstates24 = data24[['RAPE', 'KIDNAPPING AND ABDUCTION','INSULT TO MODESTY OF WOMEN']].plot(kind = 'barh', figsize = (10,13), width = 1)\n",
    "allstates24.set_xlabel('No. of Cases in 2013')\n",
    "allstates24.set_yticklabels(data24['STATE/UT'])\n",
    "plt.show()"
   ]
  },
  {
   "cell_type": "code",
   "execution_count": 14,
   "id": "common-increase",
   "metadata": {
    "execution": {
     "iopub.execute_input": "2021-04-14T16:34:02.375375Z",
     "iopub.status.busy": "2021-04-14T16:34:02.372650Z",
     "iopub.status.idle": "2021-04-14T16:34:02.382254Z",
     "shell.execute_reply": "2021-04-14T16:34:02.381421Z"
    },
    "papermill": {
     "duration": 0.044012,
     "end_time": "2021-04-14T16:34:02.382427",
     "exception": false,
     "start_time": "2021-04-14T16:34:02.338415",
     "status": "completed"
    },
    "tags": []
   },
   "outputs": [],
   "source": [
    "crimes = dataframe.groupby('STATE/UT').sum()"
   ]
  },
  {
   "cell_type": "code",
   "execution_count": 15,
   "id": "criminal-replacement",
   "metadata": {
    "execution": {
     "iopub.execute_input": "2021-04-14T16:34:02.450432Z",
     "iopub.status.busy": "2021-04-14T16:34:02.449678Z",
     "iopub.status.idle": "2021-04-14T16:34:02.453775Z",
     "shell.execute_reply": "2021-04-14T16:34:02.453092Z"
    },
    "papermill": {
     "duration": 0.039922,
     "end_time": "2021-04-14T16:34:02.453928",
     "exception": false,
     "start_time": "2021-04-14T16:34:02.414006",
     "status": "completed"
    },
    "tags": []
   },
   "outputs": [],
   "source": [
    "crimes.drop('YEAR', axis= 1, inplace= True)"
   ]
  },
  {
   "cell_type": "code",
   "execution_count": 16,
   "id": "supreme-cancellation",
   "metadata": {
    "execution": {
     "iopub.execute_input": "2021-04-14T16:34:02.518134Z",
     "iopub.status.busy": "2021-04-14T16:34:02.517037Z",
     "iopub.status.idle": "2021-04-14T16:34:02.521173Z",
     "shell.execute_reply": "2021-04-14T16:34:02.520524Z"
    },
    "papermill": {
     "duration": 0.039083,
     "end_time": "2021-04-14T16:34:02.521334",
     "exception": false,
     "start_time": "2021-04-14T16:34:02.482251",
     "status": "completed"
    },
    "tags": []
   },
   "outputs": [],
   "source": [
    "crimes['TOTAL'] = 0"
   ]
  },
  {
   "cell_type": "code",
   "execution_count": 17,
   "id": "arbitrary-berkeley",
   "metadata": {
    "execution": {
     "iopub.execute_input": "2021-04-14T16:34:02.613347Z",
     "iopub.status.busy": "2021-04-14T16:34:02.612620Z",
     "iopub.status.idle": "2021-04-14T16:34:02.615850Z",
     "shell.execute_reply": "2021-04-14T16:34:02.616345Z"
    },
    "papermill": {
     "duration": 0.066959,
     "end_time": "2021-04-14T16:34:02.616533",
     "exception": false,
     "start_time": "2021-04-14T16:34:02.549574",
     "status": "completed"
    },
    "tags": []
   },
   "outputs": [],
   "source": [
    "for i in range(len(crimes.index)):\n",
    "    crimes['TOTAL'][i] = crimes.iloc[i].sum()"
   ]
  },
  {
   "cell_type": "code",
   "execution_count": 18,
   "id": "fatal-logging",
   "metadata": {
    "execution": {
     "iopub.execute_input": "2021-04-14T16:34:02.706242Z",
     "iopub.status.busy": "2021-04-14T16:34:02.703706Z",
     "iopub.status.idle": "2021-04-14T16:34:03.095046Z",
     "shell.execute_reply": "2021-04-14T16:34:03.094380Z"
    },
    "papermill": {
     "duration": 0.450212,
     "end_time": "2021-04-14T16:34:03.095226",
     "exception": false,
     "start_time": "2021-04-14T16:34:02.645014",
     "status": "completed"
    },
    "tags": []
   },
   "outputs": [
    {
     "data": {
      "image/png": "[encoded data removed]",
      "text/plain": [
       "<Figure size 432x360 with 1 Axes>"
      ]
     },
     "metadata": {
      "needs_background": "light"
     },
     "output_type": "display_data"
    },
    {
     "data": {
      "image/png": "[encoded data removed]",
      "text/plain": [
       "<Figure size 432x360 with 1 Axes>"
      ]
     },
     "metadata": {
      "needs_background": "light"
     },
     "output_type": "display_data"
    }
   ],
   "source": [
    "max_crimes = crimes['TOTAL'].nlargest(10).plot(kind = 'barh', title = 'Most Unsafe States for Women(2001-13)', figsize = (6,5))\n",
    "plt.xlabel('No. of Crimes')\n",
    "plt.show()\n",
    "min_crimes = crimes['TOTAL'].nsmallest(10).plot(kind = 'barh', title = 'Safest States for Women(2001-13)', figsize = (6,5))\n",
    "plt.xlabel('No. of Crimes')\n",
    "plt.show()"
   ]
  },
  {
   "cell_type": "code",
   "execution_count": 19,
   "id": "analyzed-flight",
   "metadata": {
    "execution": {
     "iopub.execute_input": "2021-04-14T16:34:03.172936Z",
     "iopub.status.busy": "2021-04-14T16:34:03.171920Z",
     "iopub.status.idle": "2021-04-14T16:34:03.177712Z",
     "shell.execute_reply": "2021-04-14T16:34:03.177134Z"
    },
    "papermill": {
     "duration": 0.050548,
     "end_time": "2021-04-14T16:34:03.177855",
     "exception": false,
     "start_time": "2021-04-14T16:34:03.127307",
     "status": "completed"
    },
    "tags": []
   },
   "outputs": [
    {
     "data": {
      "text/html": [
       "<div>\n",
       "<style scoped>\n",
       "    .dataframe tbody tr th:only-of-type {\n",
       "        vertical-align: middle;\n",
       "    }\n",
       "\n",
       "    .dataframe tbody tr th {\n",
       "        vertical-align: top;\n",
       "    }\n",
       "\n",
       "    .dataframe thead th {\n",
       "        text-align: right;\n",
       "    }\n",
       "</style>\n",
       "<table border=\"1\" class=\"dataframe\">\n",
       "  <thead>\n",
       "    <tr style=\"text-align: right;\">\n",
       "      <th></th>\n",
       "      <th>STATE/UT</th>\n",
       "      <th>DISTRICT</th>\n",
       "      <th>YEAR</th>\n",
       "      <th>RAPE</th>\n",
       "      <th>KIDNAPPING AND ABDUCTION</th>\n",
       "      <th>DOWRY DEATHS</th>\n",
       "      <th>ASSAULT ON WOMEN WITH INTENT TO OUTRAGE HER MODESTY</th>\n",
       "      <th>INSULT TO MODESTY OF WOMEN</th>\n",
       "      <th>CRUELTY BY HUSBAND OR HIS RELATIVES</th>\n",
       "      <th>IMPORTATION OF GIRLS</th>\n",
       "    </tr>\n",
       "  </thead>\n",
       "  <tbody>\n",
       "    <tr>\n",
       "      <th>0</th>\n",
       "      <td>ANDHRA PRADESH</td>\n",
       "      <td>ADILABAD</td>\n",
       "      <td>2001</td>\n",
       "      <td>50</td>\n",
       "      <td>30</td>\n",
       "      <td>16</td>\n",
       "      <td>149</td>\n",
       "      <td>34</td>\n",
       "      <td>175</td>\n",
       "      <td>0</td>\n",
       "    </tr>\n",
       "    <tr>\n",
       "      <th>1</th>\n",
       "      <td>ANDHRA PRADESH</td>\n",
       "      <td>ANANTAPUR</td>\n",
       "      <td>2001</td>\n",
       "      <td>23</td>\n",
       "      <td>30</td>\n",
       "      <td>7</td>\n",
       "      <td>118</td>\n",
       "      <td>24</td>\n",
       "      <td>154</td>\n",
       "      <td>0</td>\n",
       "    </tr>\n",
       "    <tr>\n",
       "      <th>2</th>\n",
       "      <td>ANDHRA PRADESH</td>\n",
       "      <td>CHITTOOR</td>\n",
       "      <td>2001</td>\n",
       "      <td>27</td>\n",
       "      <td>34</td>\n",
       "      <td>14</td>\n",
       "      <td>112</td>\n",
       "      <td>83</td>\n",
       "      <td>186</td>\n",
       "      <td>0</td>\n",
       "    </tr>\n",
       "    <tr>\n",
       "      <th>3</th>\n",
       "      <td>ANDHRA PRADESH</td>\n",
       "      <td>CUDDAPAH</td>\n",
       "      <td>2001</td>\n",
       "      <td>20</td>\n",
       "      <td>20</td>\n",
       "      <td>17</td>\n",
       "      <td>126</td>\n",
       "      <td>38</td>\n",
       "      <td>57</td>\n",
       "      <td>0</td>\n",
       "    </tr>\n",
       "    <tr>\n",
       "      <th>4</th>\n",
       "      <td>ANDHRA PRADESH</td>\n",
       "      <td>EAST GODAVARI</td>\n",
       "      <td>2001</td>\n",
       "      <td>23</td>\n",
       "      <td>26</td>\n",
       "      <td>12</td>\n",
       "      <td>109</td>\n",
       "      <td>58</td>\n",
       "      <td>247</td>\n",
       "      <td>0</td>\n",
       "    </tr>\n",
       "  </tbody>\n",
       "</table>\n",
       "</div>"
      ],
      "text/plain": [
       "         STATE/UT       DISTRICT  YEAR  RAPE  KIDNAPPING AND ABDUCTION  \\\n",
       "0  ANDHRA PRADESH       ADILABAD  2001    50                        30   \n",
       "1  ANDHRA PRADESH      ANANTAPUR  2001    23                        30   \n",
       "2  ANDHRA PRADESH       CHITTOOR  2001    27                        34   \n",
       "3  ANDHRA PRADESH       CUDDAPAH  2001    20                        20   \n",
       "4  ANDHRA PRADESH  EAST GODAVARI  2001    23                        26   \n",
       "\n",
       "   DOWRY DEATHS  ASSAULT ON WOMEN WITH INTENT TO OUTRAGE HER MODESTY  \\\n",
       "0            16                                                149     \n",
       "1             7                                                118     \n",
       "2            14                                                112     \n",
       "3            17                                                126     \n",
       "4            12                                                109     \n",
       "\n",
       "   INSULT TO MODESTY OF WOMEN  CRUELTY BY HUSBAND OR HIS RELATIVES  \\\n",
       "0                          34                                  175   \n",
       "1                          24                                  154   \n",
       "2                          83                                  186   \n",
       "3                          38                                   57   \n",
       "4                          58                                  247   \n",
       "\n",
       "   IMPORTATION OF GIRLS  \n",
       "0                     0  \n",
       "1                     0  \n",
       "2                     0  \n",
       "3                     0  \n",
       "4                     0  "
      ]
     },
     "execution_count": 19,
     "metadata": {},
     "output_type": "execute_result"
    }
   ],
   "source": [
    "dataframe.head()"
   ]
  },
  {
   "cell_type": "code",
   "execution_count": 20,
   "id": "wound-silver",
   "metadata": {
    "execution": {
     "iopub.execute_input": "2021-04-14T16:34:03.268474Z",
     "iopub.status.busy": "2021-04-14T16:34:03.263078Z",
     "iopub.status.idle": "2021-04-14T16:34:03.392233Z",
     "shell.execute_reply": "2021-04-14T16:34:03.393174Z"
    },
    "papermill": {
     "duration": 0.183952,
     "end_time": "2021-04-14T16:34:03.393673",
     "exception": false,
     "start_time": "2021-04-14T16:34:03.209721",
     "status": "completed"
    },
    "tags": []
   },
   "outputs": [
    {
     "name": "stdout",
     "output_type": "stream",
     "text": [
      "highCrime\n",
      "False    57.337398\n",
      "True     42.662602\n",
      "dtype: float64\n",
      "------------------\n",
      "Percentage Positive Instance = 42.66260162601626\n",
      "Percentage Negative Instance = 57.33739837398374 \n"
     ]
    }
   ],
   "source": [
    "def setHighCrime(df):\n",
    "    '''Function to set value of highCrime depending on ViolentCrimesPerPop'''\n",
    "    if df['DOWRY DEATHS'] > 7:\n",
    "        return True\n",
    "    else:\n",
    "        return False\n",
    "    \n",
    "# Adding a new field \"highCrime\"\n",
    "dataframe['highCrime'] = dataframe.apply(setHighCrime, axis=1)\n",
    "\n",
    "# Calculating the percentage of positive and negative instances in the dataset\n",
    "percentage_intances = dataframe.groupby('highCrime').size() * 100 / len(dataframe)\n",
    "print(percentage_intances)\n",
    "print(\"------------------\")\n",
    "print(\"Percentage Positive Instance = {}\\nPercentage Negative Instance = {} \".format(percentage_intances[1],percentage_intances[0]))"
   ]
  },
  {
   "cell_type": "code",
   "execution_count": 21,
   "id": "caroline-raising",
   "metadata": {
    "execution": {
     "iopub.execute_input": "2021-04-14T16:34:03.470557Z",
     "iopub.status.busy": "2021-04-14T16:34:03.469690Z",
     "iopub.status.idle": "2021-04-14T16:34:03.481040Z",
     "shell.execute_reply": "2021-04-14T16:34:03.480304Z"
    },
    "papermill": {
     "duration": 0.055343,
     "end_time": "2021-04-14T16:34:03.481219",
     "exception": false,
     "start_time": "2021-04-14T16:34:03.425876",
     "status": "completed"
    },
    "tags": []
   },
   "outputs": [],
   "source": [
    "X = dataframe.drop('RAPE', axis=1).drop('IMPORTATION OF GIRLS', axis=1).drop('INSULT TO MODESTY OF WOMEN', axis=1).drop('CRUELTY BY HUSBAND OR HIS RELATIVES', axis=1).drop('STATE/UT', axis=1).drop('DOWRY DEATHS', axis=1).drop('DISTRICT', axis=1).drop('ASSAULT ON WOMEN WITH INTENT TO OUTRAGE HER MODESTY', axis=1).drop('KIDNAPPING AND ABDUCTION', axis=1).drop('highCrime', axis=1)\n",
    "\n",
    "y = dataframe[\"highCrime\"]\n",
    "\n"
   ]
  },
  {
   "cell_type": "code",
   "execution_count": 22,
   "id": "unlikely-ridge",
   "metadata": {
    "execution": {
     "iopub.execute_input": "2021-04-14T16:34:03.552757Z",
     "iopub.status.busy": "2021-04-14T16:34:03.551805Z",
     "iopub.status.idle": "2021-04-14T16:34:03.557063Z",
     "shell.execute_reply": "2021-04-14T16:34:03.556382Z"
    },
    "papermill": {
     "duration": 0.044135,
     "end_time": "2021-04-14T16:34:03.557232",
     "exception": false,
     "start_time": "2021-04-14T16:34:03.513097",
     "status": "completed"
    },
    "tags": []
   },
   "outputs": [],
   "source": [
    "from sklearn.model_selection import train_test_split\n",
    "x_train, x_test, y_train, y_test = train_test_split(X,y,test_size = .50,random_state = 10)"
   ]
  },
  {
   "cell_type": "code",
   "execution_count": 23,
   "id": "velvet-accessory",
   "metadata": {
    "execution": {
     "iopub.execute_input": "2021-04-14T16:34:03.630523Z",
     "iopub.status.busy": "2021-04-14T16:34:03.629561Z",
     "iopub.status.idle": "2021-04-14T16:34:03.634633Z",
     "shell.execute_reply": "2021-04-14T16:34:03.634035Z"
    },
    "papermill": {
     "duration": 0.044651,
     "end_time": "2021-04-14T16:34:03.634777",
     "exception": false,
     "start_time": "2021-04-14T16:34:03.590126",
     "status": "completed"
    },
    "tags": []
   },
   "outputs": [
    {
     "data": {
      "text/plain": [
       "192     False\n",
       "1636    False\n",
       "4035    False\n",
       "473     False\n",
       "5154     True\n",
       "        ...  \n",
       "2266     True\n",
       "3990     True\n",
       "1241    False\n",
       "2878    False\n",
       "4489    False\n",
       "Name: highCrime, Length: 4920, dtype: bool"
      ]
     },
     "execution_count": 23,
     "metadata": {},
     "output_type": "execute_result"
    }
   ],
   "source": [
    "y_test"
   ]
  },
  {
   "cell_type": "code",
   "execution_count": 24,
   "id": "mineral-sequence",
   "metadata": {
    "execution": {
     "iopub.execute_input": "2021-04-14T16:34:03.708505Z",
     "iopub.status.busy": "2021-04-14T16:34:03.707415Z",
     "iopub.status.idle": "2021-04-14T16:34:03.711433Z",
     "shell.execute_reply": "2021-04-14T16:34:03.710859Z"
    },
    "papermill": {
     "duration": 0.043459,
     "end_time": "2021-04-14T16:34:03.711575",
     "exception": false,
     "start_time": "2021-04-14T16:34:03.668116",
     "status": "completed"
    },
    "tags": []
   },
   "outputs": [],
   "source": [
    "testing = [x_test,y_test]"
   ]
  },
  {
   "cell_type": "code",
   "execution_count": 25,
   "id": "animal-christmas",
   "metadata": {
    "execution": {
     "iopub.execute_input": "2021-04-14T16:34:03.784813Z",
     "iopub.status.busy": "2021-04-14T16:34:03.783689Z",
     "iopub.status.idle": "2021-04-14T16:34:03.787424Z",
     "shell.execute_reply": "2021-04-14T16:34:03.786857Z"
    },
    "papermill": {
     "duration": 0.043254,
     "end_time": "2021-04-14T16:34:03.787584",
     "exception": false,
     "start_time": "2021-04-14T16:34:03.744330",
     "status": "completed"
    },
    "tags": []
   },
   "outputs": [],
   "source": [
    "result = pd.concat(testing,axis = 1)"
   ]
  },
  {
   "cell_type": "code",
   "execution_count": 26,
   "id": "intermediate-thing",
   "metadata": {
    "execution": {
     "iopub.execute_input": "2021-04-14T16:34:03.858394Z",
     "iopub.status.busy": "2021-04-14T16:34:03.857571Z",
     "iopub.status.idle": "2021-04-14T16:34:03.942713Z",
     "shell.execute_reply": "2021-04-14T16:34:03.941956Z"
    },
    "papermill": {
     "duration": 0.122867,
     "end_time": "2021-04-14T16:34:03.942863",
     "exception": false,
     "start_time": "2021-04-14T16:34:03.819996",
     "status": "completed"
    },
    "tags": []
   },
   "outputs": [],
   "source": [
    "\n",
    "import seaborn as sns\n",
    "sns.set()\n",
    "result = result.set_index('YEAR')"
   ]
  },
  {
   "cell_type": "code",
   "execution_count": 27,
   "id": "entertaining-forward",
   "metadata": {
    "execution": {
     "iopub.execute_input": "2021-04-14T16:34:04.016510Z",
     "iopub.status.busy": "2021-04-14T16:34:04.015767Z",
     "iopub.status.idle": "2021-04-14T16:34:04.400219Z",
     "shell.execute_reply": "2021-04-14T16:34:04.400838Z"
    },
    "papermill": {
     "duration": 0.425453,
     "end_time": "2021-04-14T16:34:04.401040",
     "exception": false,
     "start_time": "2021-04-14T16:34:03.975587",
     "status": "completed"
    },
    "tags": []
   },
   "outputs": [
    {
     "data": {
      "image/png": "[encoded data removed]",
      "text/plain": [
       "<Figure size 432x288 with 2 Axes>"
      ]
     },
     "metadata": {},
     "output_type": "display_data"
    }
   ],
   "source": [
    "sns.heatmap(result)\n",
    "plt.show()"
   ]
  },
  {
   "cell_type": "code",
   "execution_count": 28,
   "id": "annual-vocabulary",
   "metadata": {
    "execution": {
     "iopub.execute_input": "2021-04-14T16:34:04.477131Z",
     "iopub.status.busy": "2021-04-14T16:34:04.476460Z",
     "iopub.status.idle": "2021-04-14T16:34:04.481169Z",
     "shell.execute_reply": "2021-04-14T16:34:04.480513Z"
    },
    "papermill": {
     "duration": 0.046624,
     "end_time": "2021-04-14T16:34:04.481332",
     "exception": false,
     "start_time": "2021-04-14T16:34:04.434708",
     "status": "completed"
    },
    "tags": []
   },
   "outputs": [
    {
     "name": "stdout",
     "output_type": "stream",
     "text": [
      "      highCrime\n",
      "YEAR           \n",
      "2001      False\n",
      "2003      False\n",
      "2006      False\n",
      "2013      False\n",
      "2008       True\n",
      "...         ...\n",
      "2004       True\n",
      "2006       True\n",
      "2002      False\n",
      "2004      False\n",
      "2007      False\n",
      "\n",
      "[4920 rows x 1 columns]\n"
     ]
    }
   ],
   "source": [
    "print(result)"
   ]
  }
 ],
 "metadata": {
  "kernelspec": {
   "display_name": "Python 3",
   "language": "python",
   "name": "python3"
  },
  "language_info": {
   "codemirror_mode": {
    "name": "ipython",
    "version": 3
   },
   "file_extension": ".py",
   "mimetype": "text/x-python",
   "name": "python",
   "nbconvert_exporter": "python",
   "pygments_lexer": "ipython3",
   "version": "3.8.8"
  },
  "papermill": {
   "default_parameters": {},
   "duration": 16.090848,
   "end_time": "2021-04-14T16:34:05.688610",
   "environment_variables": {},
   "exception": null,
   "input_path": "__notebook__.ipynb",
   "output_path": "__notebook__.ipynb",
   "parameters": {},
   "start_time": "2021-04-14T16:33:49.597762",
   "version": "2.3.2"
  }
 },
 "nbformat": 4,
 "nbformat_minor": 5
}
